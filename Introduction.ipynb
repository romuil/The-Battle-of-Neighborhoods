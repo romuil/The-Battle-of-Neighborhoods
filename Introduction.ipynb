{
 "cells": [
  {
   "cell_type": "markdown",
   "metadata": {},
   "source": [
    "## Introduction\n",
    "In this project we will explore Toronto city's data.\n",
    "\n",
    "Here we will try finding if someone wants to open a new business in the city which location is best suited for it keeping in mind the competitors and which income group of people will be attracted most to it based on the population of the neighbourhood.\n",
    "\n",
    "## Business Problem:\n",
    "\n",
    "Toronto is the provincial capital of Ontario and the most populous city in Canada, with a population of 2,731,571 as of 2016. Current to 2016, the Toronto census metropolitan area (CMA), of which the majority is within the Greater Toronto Area (GTA), held a population of 5,928,040, making it Canada's most populous CMA. The city is the anchor of the Golden Horseshoe, an urban agglomeration of 9,245,438 people (as of 2016) surrounding the western end of Lake Ontario. Toronto is an international centre of business, finance, arts, and culture, and is recognized as one of the most multicultural and cosmopolitan cities in the world.\n",
    "\n",
    "Toronto encompasses a geographical area formerly administered by many separate municipalities. These municipalities have each developed a distinct history and identity over the years, and their names remain in common use among Torontonians. Former municipalities include East York, Etobicoke, Forest Hill, Mimico, North York, Parkdale, Scarborough, Swansea, Weston and York. Throughout the city there exist hundreds of small neighbourhoods and some larger neighbourhoods covering a few square kilometres.\n",
    "\n",
    "The last complete census by Statistics Canada estimated there were 2,731,571 living in Toronto, making it the largest city in Canada and the fourth most populous municipality in North America\n",
    "\n",
    "Toronto's population grew by 4.3% from 2011 to 2016, with an annual growth rate of 0.86%.\n",
    "\n",
    "2011 Census population data for the City of Toronto are found readily aggregated at a finer level than the city as a whole at i. the electoral district (riding) level (2003 redistribution)and ii. the neighbourhood level. The three ridings with the largest increase in population between 2006 and 2011 in the City of Toronto have been\n",
    "\n",
    "Trinity-Spadina (25.5%),\n",
    "\n",
    "Etobicoke-Lakeshore (7.3%), and\n",
    "\n",
    "Toronto Centre (7.3%).\n",
    "\n",
    "More information about Toronto <a href https://en.wikipedia.org/wiki/Toronto#Geography </a>\n",
    "\n",
    "Target Audience: Stakeholders wants to open a new business in Toronto.\n",
    "\n",
    "This project try to solve the above problem by suggesting the Target Audience which are the best locality to open new point of service and gaining maximum profits in Toronto."
   ]
  },
  {
   "cell_type": "code",
   "execution_count": null,
   "metadata": {},
   "outputs": [],
   "source": []
  }
 ],
 "metadata": {
  "kernelspec": {
   "display_name": "Python",
   "language": "python",
   "name": "conda-env-python-py"
  },
  "language_info": {
   "codemirror_mode": {
    "name": "ipython",
    "version": 3
   },
   "file_extension": ".py",
   "mimetype": "text/x-python",
   "name": "python",
   "nbconvert_exporter": "python",
   "pygments_lexer": "ipython3",
   "version": "3.6.7"
  }
 },
 "nbformat": 4,
 "nbformat_minor": 4
}
